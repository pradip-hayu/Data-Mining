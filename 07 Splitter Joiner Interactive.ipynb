{
 "cells": [
  {
   "cell_type": "code",
   "execution_count": 4,
   "metadata": {
    "collapsed": false,
    "scrolled": true
   },
   "outputs": [
    {
     "name": "stdout",
     "output_type": "stream",
     "text": [
      "Welcome to the file splitte/joiner\n",
      "\n",
      "You will need to specify a file name and split size\n",
      "Enter a file name: Wildlife.wmv\n",
      "Enter split size in bytes: 500000\n",
      ".....................................................\n",
      "Split complete\n"
     ]
    }
   ],
   "source": [
    "#07 Splitter Joiner Interactive\n",
    "\n",
    "#splitter\n",
    "import os\n",
    "import os.path\n",
    "\n",
    "def menu():\n",
    "    print('Welcome to the file splitte/joiner')\n",
    "    print()\n",
    "    print('You will need to specify a file name and split size')\n",
    "    fileName = input('Enter a file name: ')\n",
    "    chunk = input('Enter split size in bytes: ')\n",
    "    chunk = int(chunk)\n",
    "    return fileName, chunk\n",
    "\n",
    "def cleanUp(fileName):\n",
    "    try: # try to clean up left overs\n",
    "        metaFile = fileName + '.meta'\n",
    "        infile = open(metaFile, 'r')\n",
    "        metaInfo = infile.readlines()\n",
    "        splits = metaInfo[2].strip()\n",
    "        splits = int(splits)\n",
    "        for i in range(splits):\n",
    "            os.remove(fileName + str(i))\n",
    "    except:\n",
    "        pass\n",
    "\n",
    "def main():\n",
    "    responses = menu()\n",
    "    \n",
    "    \n",
    "    try:\n",
    "        fileName = responses[0]\n",
    "        if os.path.isfile(fileName):\n",
    "            cleanUp(fileName)\n",
    "        else:\n",
    "            pass\n",
    "        chunk = responses[1]\n",
    "\n",
    "        buffersize = chunk\n",
    "        infile = open(fileName, 'rb')\n",
    "        splitFilePrefix = fileName\n",
    "        buffer = infile.read(buffersize)\n",
    "        i = 0\n",
    "        \n",
    "        while len(buffer):\n",
    "            splitFilePrefix = splitFilePrefix + str(i)\n",
    "            outfile = open(splitFilePrefix, 'wb')\n",
    "            outfile.write(buffer)\n",
    "            print('.', end='')\n",
    "            buffer = infile.read(buffersize)\n",
    "            i += 1 #same as i = i + 1\n",
    "            splitFilePrefix = fileName\n",
    "        \n",
    "        print()\n",
    "        print('Split complete')\n",
    "        \n",
    "        #create meta file\n",
    "        outfile = open(fileName + '.meta', 'w')\n",
    "        outfile.write(splitFilePrefix + '\\n')\n",
    "        outfile.write(str(buffersize) + '\\n')\n",
    "        outfile.write(str(i))\n",
    "        \n",
    "        infile.close()\n",
    "        outfile.close()\n",
    "            \n",
    "    \n",
    "    except:\n",
    "        print('File not found or some other error.')\n",
    "\n",
    "main()"
   ]
  },
  {
   "cell_type": "code",
   "execution_count": 5,
   "metadata": {
    "collapsed": false
   },
   "outputs": [
    {
     "name": "stdout",
     "output_type": "stream",
     "text": [
      "Welcome to the file joiner\n",
      "\n",
      "You will need to specify the original file name\n",
      "Enter the original file name: Wildlife.wmv\n",
      ".....................................................Files rejoined. File name is:  newWildlife.wmv\n"
     ]
    }
   ],
   "source": [
    "#joiner\n",
    "\n",
    "def menu():\n",
    "    print('Welcome to the file joiner')\n",
    "    print()\n",
    "    print('You will need to specify the original file name')\n",
    "    fileName = input('Enter the original file name: ')\n",
    "    return fileName\n",
    "\n",
    "def main():\n",
    "    try:\n",
    "        fileName = menu()\n",
    "        metaFile = fileName + '.meta'\n",
    "        \n",
    "        infile = open(metaFile, 'r')\n",
    "        metaInfo = infile.readlines()\n",
    "        splitFilePrefix = metaInfo[0].strip()\n",
    "        buffersize = metaInfo[1].strip()\n",
    "        buffersize = int(buffersize)\n",
    "        splits = metaInfo[2].strip()\n",
    "        splits = int(splits)\n",
    "        \n",
    "        try:\n",
    "            os.remove('new' + fileName)\n",
    "        except:\n",
    "            pass\n",
    "        \n",
    "        outfile = open('new' + fileName, 'ab')\n",
    "        infile = open(splitFilePrefix + str(0), 'rb')\n",
    "        buffer = infile.read(buffersize)\n",
    "        i = 0\n",
    "        \n",
    "        while len(buffer):\n",
    "            outfile.write(buffer)\n",
    "            print('.', end='')\n",
    "            i += 1\n",
    "            if i == splits:\n",
    "                break\n",
    "            splitFilePrefix = metaInfo[0].strip()\n",
    "            splitFilePrefix += str(i) #splitFilePrefix = splitFilePrefix + str(i)\n",
    "            infile = open(splitFilePrefix, 'rb')\n",
    "            buffer = infile.read(buffersize)\n",
    "        \n",
    "        infile.close()\n",
    "        outfile.close()\n",
    "        print('Files rejoined. File name is: ', 'new' + fileName)\n",
    "            \n",
    "    except:\n",
    "        print('An error occured')  \n",
    "    \n",
    "main()"
   ]
  },
  {
   "cell_type": "code",
   "execution_count": null,
   "metadata": {
    "collapsed": true
   },
   "outputs": [],
   "source": []
  }
 ],
 "metadata": {
  "kernelspec": {
   "display_name": "Python 3",
   "language": "python",
   "name": "python3"
  },
  "language_info": {
   "codemirror_mode": {
    "name": "ipython",
    "version": 3
   },
   "file_extension": ".py",
   "mimetype": "text/x-python",
   "name": "python",
   "nbconvert_exporter": "python",
   "pygments_lexer": "ipython3",
   "version": "3.5.2"
  }
 },
 "nbformat": 4,
 "nbformat_minor": 0
}
