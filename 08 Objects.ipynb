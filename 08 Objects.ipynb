{
 "cells": [
  {
   "cell_type": "code",
   "execution_count": 8,
   "metadata": {
    "collapsed": false
   },
   "outputs": [
    {
     "name": "stdout",
     "output_type": "stream",
     "text": [
      "black\n",
      "mobile\n",
      "calling 7035551212\n",
      "hung up\n"
     ]
    }
   ],
   "source": [
    "#08 Objects\n",
    "\n",
    "class Phone:\n",
    "    #constructor and attributes\n",
    "    def __init__(self, c, t):\n",
    "        self.color = c\n",
    "        self.phonetype = t\n",
    "    \n",
    "    #methods (behaviors)\n",
    "    def makecall(self, number):\n",
    "        print(\"calling \" + number)\n",
    "    \n",
    "    def hangup(self):\n",
    "        print(\"hung up\")\n",
    "\n",
    "newPhone = Phone(\"black\", \"mobile\")\n",
    "print(newPhone.color)\n",
    "print(newPhone.phonetype)\n",
    "newPhone.makecall(\"7035551212\")\n",
    "newPhone.hangup()\n",
    "    "
   ]
  },
  {
   "cell_type": "code",
   "execution_count": null,
   "metadata": {
    "collapsed": true
   },
   "outputs": [],
   "source": []
  }
 ],
 "metadata": {
  "kernelspec": {
   "display_name": "Python 3",
   "language": "python",
   "name": "python3"
  },
  "language_info": {
   "codemirror_mode": {
    "name": "ipython",
    "version": 3
   },
   "file_extension": ".py",
   "mimetype": "text/x-python",
   "name": "python",
   "nbconvert_exporter": "python",
   "pygments_lexer": "ipython3",
   "version": "3.5.2"
  }
 },
 "nbformat": 4,
 "nbformat_minor": 0
}
