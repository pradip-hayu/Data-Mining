{
 "cells": [
  {
   "cell_type": "code",
   "execution_count": 1,
   "metadata": {
    "collapsed": false
   },
   "outputs": [
    {
     "name": "stdout",
     "output_type": "stream",
     "text": [
      "............................................................................................................................................................................................................................................................................................................................................................................................................................................................................................................................................."
     ]
    }
   ],
   "source": [
    "#06 Splitter\n",
    "\n",
    "def main():\n",
    "    buffersize = 50000\n",
    "    infile = open('Wildlife.wmv', 'rb')\n",
    "    fileprefix = 'wildlife'\n",
    "    buffer = infile.read(buffersize)\n",
    "    i = 0\n",
    "    while len(buffer):\n",
    "        fileprefix = fileprefix + str(i)\n",
    "        outfile = open(fileprefix, 'wb')\n",
    "        outfile.write(buffer)\n",
    "        print('.', end='')\n",
    "        buffer = infile.read(buffersize)\n",
    "        i = i + 1\n",
    "        fileprefix = 'wildlife'\n",
    "\n",
    "main()"
   ]
  },
  {
   "cell_type": "code",
   "execution_count": 4,
   "metadata": {
    "collapsed": false
   },
   "outputs": [
    {
     "name": "stdout",
     "output_type": "stream",
     "text": [
      "............................................................................................................................................................................................................................................................................................................................................................................................................................................................................................................................................."
     ]
    }
   ],
   "source": [
    "def main():\n",
    "    buffersize = 50000\n",
    "    outfile = open('newWildlife.wmv', 'ab')\n",
    "    fileprefix = 'wildlife'\n",
    "    infile = open(fileprefix + str(0), 'rb')\n",
    "    buffer = infile.read(buffersize)\n",
    "    i=0\n",
    "    \n",
    "    while len(buffer):\n",
    "        outfile.write(buffer)\n",
    "        print('.', end='')\n",
    "        i = i + 1\n",
    "        if i == 525:\n",
    "            break\n",
    "        fileprefix = 'wildlife'\n",
    "        fileprefix = fileprefix + str(i)\n",
    "        infile = open(fileprefix, 'rb')\n",
    "        buffer = infile.read(buffersize)\n",
    "                            \n",
    "main()"
   ]
  },
  {
   "cell_type": "code",
   "execution_count": null,
   "metadata": {
    "collapsed": true
   },
   "outputs": [],
   "source": []
  }
 ],
 "metadata": {
  "kernelspec": {
   "display_name": "Python 3",
   "language": "python",
   "name": "python3"
  },
  "language_info": {
   "codemirror_mode": {
    "name": "ipython",
    "version": 3
   },
   "file_extension": ".py",
   "mimetype": "text/x-python",
   "name": "python",
   "nbconvert_exporter": "python",
   "pygments_lexer": "ipython3",
   "version": "3.5.2"
  }
 },
 "nbformat": 4,
 "nbformat_minor": 0
}
