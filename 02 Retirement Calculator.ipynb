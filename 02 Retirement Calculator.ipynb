{
 "cells": [
  {
   "cell_type": "code",
   "execution_count": 12,
   "metadata": {
    "collapsed": false
   },
   "outputs": [
    {
     "name": "stdout",
     "output_type": "stream",
     "text": [
      "Enter your principle: 50000\n",
      "Enter the interest rate like 7.5: 12\n",
      "Enter the number of years before retirement: 50\n",
      "Enter monthly contribution: 1000\n",
      "Your retirement is $18467790.76\n"
     ]
    }
   ],
   "source": [
    "#02 Retirement Calculator\n",
    "\n",
    "#calculate retirement amount\n",
    "\n",
    "import math\n",
    "import sys\n",
    "\n",
    "principle = input('Enter your principle: ')\n",
    "interest = input('Enter the interest rate like 7.5: ')\n",
    "years = input('Enter the number of years before retirement: ')\n",
    "contribution = input('Enter monthly contribution: ')\n",
    "\n",
    "#casting or converting data type\n",
    "principle = float(principle)\n",
    "interest = float(interest) / 100\n",
    "years = float(years)\n",
    "contribution = float(contribution)\n",
    "\n",
    "retirement = round(principle*math.pow((1+interest/4), 4*years), 2)\n",
    "\n",
    "print('Your retirement is ${}'.format(retirement))\n"
   ]
  },
  {
   "cell_type": "code",
   "execution_count": 5,
   "metadata": {
    "collapsed": false
   },
   "outputs": [
    {
     "name": "stdout",
     "output_type": "stream",
     "text": [
      "This is a number 22 and this is a second number 7\n"
     ]
    }
   ],
   "source": [
    "print(\"This is a number {1} and this is a second number {0}\".format(7,22))"
   ]
  },
  {
   "cell_type": "code",
   "execution_count": 20,
   "metadata": {
    "collapsed": false
   },
   "outputs": [
    {
     "name": "stdout",
     "output_type": "stream",
     "text": [
      "17\n",
      "7\n",
      "(-1, 2)\n"
     ]
    }
   ],
   "source": [
    "#creating a method (some people call it a function)\n",
    "\n",
    "def add(a=0, b=0):\n",
    "    print(a+b)\n",
    "    return -1,2\n",
    "\n",
    "x = add(9,8)\n",
    "print(3+4)\n",
    "print(x)"
   ]
  },
  {
   "cell_type": "code",
   "execution_count": null,
   "metadata": {
    "collapsed": true
   },
   "outputs": [],
   "source": []
  }
 ],
 "metadata": {
  "kernelspec": {
   "display_name": "Python 3",
   "language": "python",
   "name": "python3"
  },
  "language_info": {
   "codemirror_mode": {
    "name": "ipython",
    "version": 3
   },
   "file_extension": ".py",
   "mimetype": "text/x-python",
   "name": "python",
   "nbconvert_exporter": "python",
   "pygments_lexer": "ipython3",
   "version": "3.5.2"
  }
 },
 "nbformat": 4,
 "nbformat_minor": 0
}
