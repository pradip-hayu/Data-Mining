{
 "cells": [
  {
   "cell_type": "code",
   "execution_count": 10,
   "metadata": {
    "collapsed": false
   },
   "outputs": [
    {
     "name": "stdout",
     "output_type": "stream",
     "text": [
      "1 1 2 3 5 8 13 21 34 55 89 144 233 377 610 987 1597 2584 4181 "
     ]
    }
   ],
   "source": [
    "#04 Loops\n",
    "\n",
    "#while loop: while a condition is true, execute the loop\n",
    "\n",
    "a, b = 0, 1\n",
    "while b < 5000:\n",
    "    print(b, end=' ')\n",
    "    a, b = b, a+b\n",
    "    "
   ]
  },
  {
   "cell_type": "code",
   "execution_count": 7,
   "metadata": {
    "collapsed": false
   },
   "outputs": [
    {
     "name": "stdout",
     "output_type": "stream",
     "text": [
      "4 16\n",
      "5 25\n",
      "6 36\n",
      "7 49\n",
      "8 64\n",
      "9 81\n"
     ]
    }
   ],
   "source": [
    "#for loop: loops a certain number of times\n",
    "\n",
    "for i in range(4,10):\n",
    "    print(str(i) + ' ' + str(i*i))"
   ]
  },
  {
   "cell_type": "code",
   "execution_count": 12,
   "metadata": {
    "collapsed": false
   },
   "outputs": [
    {
     "name": "stdout",
     "output_type": "stream",
     "text": [
      "Washington\n",
      "Adams\n",
      "Jefferson\n",
      "Madison\n",
      "Monroe\n",
      "Adams\n",
      "Jackson\n",
      "Van Buren\n",
      "Harrison\n",
      "Taylor\n",
      "Polk"
     ]
    }
   ],
   "source": [
    "fh = open('presidents.txt')\n",
    "for k in fh.readlines():\n",
    "    print(k, end='')"
   ]
  },
  {
   "cell_type": "code",
   "execution_count": 13,
   "metadata": {
    "collapsed": false
   },
   "outputs": [
    {
     "name": "stdout",
     "output_type": "stream",
     "text": [
      "T\n",
      "o\n",
      "d\n",
      "a\n",
      "y\n",
      " \n",
      "i\n",
      "s\n",
      " \n",
      "J\n",
      "a\n",
      "n\n",
      "u\n",
      "a\n",
      "r\n",
      "y\n",
      " \n",
      "2\n",
      "4\n"
     ]
    }
   ],
   "source": [
    "for character in 'Today is January 24':\n",
    "    print(character)"
   ]
  },
  {
   "cell_type": "code",
   "execution_count": null,
   "metadata": {
    "collapsed": true
   },
   "outputs": [],
   "source": []
  }
 ],
 "metadata": {
  "kernelspec": {
   "display_name": "Python 3",
   "language": "python",
   "name": "python3"
  },
  "language_info": {
   "codemirror_mode": {
    "name": "ipython",
    "version": 3
   },
   "file_extension": ".py",
   "mimetype": "text/x-python",
   "name": "python",
   "nbconvert_exporter": "python",
   "pygments_lexer": "ipython3",
   "version": "3.5.2"
  }
 },
 "nbformat": 4,
 "nbformat_minor": 0
}
